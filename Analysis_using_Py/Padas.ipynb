{
 "cells": [
  {
   "cell_type": "code",
   "execution_count": 67,
   "metadata": {},
   "outputs": [],
   "source": [
    "import pandas as pd"
   ]
  },
  {
   "cell_type": "code",
   "execution_count": 68,
   "metadata": {},
   "outputs": [
    {
     "name": "stdout",
     "output_type": "stream",
     "text": [
      "Series \n",
      " 0    32.0\n",
      "1    35.0\n",
      "2     7.0\n",
      "3     8.0\n",
      "4     4.5\n",
      "5     7.0\n",
      "dtype: float64\n",
      "<class 'pandas.core.series.Series'>\n"
     ]
    }
   ],
   "source": [
    "import pandas as pd\n",
    "\n",
    "data = [32,35,7,8,4.5,7]\n",
    "series = pd.Series(data)\n",
    "print(\"Series \\n\", series )\n",
    "print(type(series))"
   ]
  },
  {
   "cell_type": "code",
   "execution_count": 69,
   "metadata": {},
   "outputs": [
    {
     "name": "stdout",
     "output_type": "stream",
     "text": [
      "1      4\n",
      "2    352\n",
      "3     52\n",
      "dtype: object\n"
     ]
    }
   ],
   "source": [
    "data={1:\"4\", 2:\"352\",3:\"52\"}\n",
    "series_pd = pd.Series(data)\n",
    "print(series_pd)"
   ]
  },
  {
   "cell_type": "code",
   "execution_count": 70,
   "metadata": {},
   "outputs": [
    {
     "name": "stdout",
     "output_type": "stream",
     "text": [
      "    Name  Age     City\n",
      "0   Jack   32  Florida\n",
      "1   John   44   Mumbai\n",
      "2  Suraj   20  Gokhpur\n",
      "<class 'pandas.core.frame.DataFrame'>\n"
     ]
    }
   ],
   "source": [
    "#Dataframe\n",
    "data = {\n",
    "    'Name':['Jack', 'John', 'Suraj'],\n",
    "    'Age':[32,44,20],\n",
    "    'City':['Florida', 'Mumbai', 'Gokhpur']\n",
    "}\n",
    "df=pd.DataFrame(data)\n",
    "print(df)\n",
    "print(type(df))"
   ]
  },
  {
   "cell_type": "code",
   "execution_count": 71,
   "metadata": {},
   "outputs": [
    {
     "name": "stdout",
     "output_type": "stream",
     "text": [
      "      Name  Age     City\n",
      "0     Jack   33  Florida\n",
      "1    Suraj   66  Florida\n",
      "2     suar   22  Florida\n",
      "3  Pratham    3  Lundhub\n",
      "<class 'pandas.core.frame.DataFrame'>\n"
     ]
    }
   ],
   "source": [
    "data2= [\n",
    "    {'Name':'Jack','Age':33 ,'City':\"Florida\" },\n",
    "    {'Name':'Suraj','Age':66 ,'City':\"Florida\" },\n",
    "    {'Name':'suar','Age':22 ,'City':\"Florida\" },\n",
    "    {'Name':'Pratham','Age':3 ,'City':\"Lundhub\" },\n",
    "]\n",
    "df=pd.DataFrame(data2)\n",
    "print(df)\n",
    "print(type(df))\n"
   ]
  },
  {
   "cell_type": "code",
   "execution_count": 72,
   "metadata": {},
   "outputs": [
    {
     "data": {
      "text/html": [
       "<div>\n",
       "<style scoped>\n",
       "    .dataframe tbody tr th:only-of-type {\n",
       "        vertical-align: middle;\n",
       "    }\n",
       "\n",
       "    .dataframe tbody tr th {\n",
       "        vertical-align: top;\n",
       "    }\n",
       "\n",
       "    .dataframe thead th {\n",
       "        text-align: right;\n",
       "    }\n",
       "</style>\n",
       "<table border=\"1\" class=\"dataframe\">\n",
       "  <thead>\n",
       "    <tr style=\"text-align: right;\">\n",
       "      <th></th>\n",
       "      <th>Title</th>\n",
       "      <th>Movie Link</th>\n",
       "      <th>Year</th>\n",
       "      <th>Duration</th>\n",
       "      <th>MPA</th>\n",
       "      <th>Rating</th>\n",
       "      <th>Votes</th>\n",
       "    </tr>\n",
       "  </thead>\n",
       "  <tbody>\n",
       "    <tr>\n",
       "      <th>0</th>\n",
       "      <td>1. Inside Out 2</td>\n",
       "      <td>https://www.imdb.com/title/tt22022452/?ref_=sr...</td>\n",
       "      <td>2024</td>\n",
       "      <td>1h 36m</td>\n",
       "      <td>PG</td>\n",
       "      <td>7.6</td>\n",
       "      <td>194K</td>\n",
       "    </tr>\n",
       "    <tr>\n",
       "      <th>1</th>\n",
       "      <td>2. Deadpool &amp; Wolverine</td>\n",
       "      <td>https://www.imdb.com/title/tt6263850/?ref_=sr_t_2</td>\n",
       "      <td>2024</td>\n",
       "      <td>2h 8m</td>\n",
       "      <td>R</td>\n",
       "      <td>7.6</td>\n",
       "      <td>441K</td>\n",
       "    </tr>\n",
       "    <tr>\n",
       "      <th>2</th>\n",
       "      <td>3. Wicked</td>\n",
       "      <td>https://www.imdb.com/title/tt1262426/?ref_=sr_t_3</td>\n",
       "      <td>2024</td>\n",
       "      <td>2h 40m</td>\n",
       "      <td>PG</td>\n",
       "      <td>7.9</td>\n",
       "      <td>90K</td>\n",
       "    </tr>\n",
       "    <tr>\n",
       "      <th>3</th>\n",
       "      <td>4. Moana 2</td>\n",
       "      <td>https://www.imdb.com/title/tt13622970/?ref_=sr...</td>\n",
       "      <td>2024</td>\n",
       "      <td>1h 40m</td>\n",
       "      <td>PG</td>\n",
       "      <td>7.0</td>\n",
       "      <td>56K</td>\n",
       "    </tr>\n",
       "    <tr>\n",
       "      <th>4</th>\n",
       "      <td>5. Despicable Me 4</td>\n",
       "      <td>https://www.imdb.com/title/tt7510222/?ref_=sr_t_5</td>\n",
       "      <td>2024</td>\n",
       "      <td>1h 34m</td>\n",
       "      <td>PG</td>\n",
       "      <td>6.2</td>\n",
       "      <td>55K</td>\n",
       "    </tr>\n",
       "  </tbody>\n",
       "</table>\n",
       "</div>"
      ],
      "text/plain": [
       "                     Title                                         Movie Link  \\\n",
       "0          1. Inside Out 2  https://www.imdb.com/title/tt22022452/?ref_=sr...   \n",
       "1  2. Deadpool & Wolverine  https://www.imdb.com/title/tt6263850/?ref_=sr_t_2   \n",
       "2                3. Wicked  https://www.imdb.com/title/tt1262426/?ref_=sr_t_3   \n",
       "3               4. Moana 2  https://www.imdb.com/title/tt13622970/?ref_=sr...   \n",
       "4       5. Despicable Me 4  https://www.imdb.com/title/tt7510222/?ref_=sr_t_5   \n",
       "\n",
       "   Year Duration MPA  Rating Votes  \n",
       "0  2024   1h 36m  PG     7.6  194K  \n",
       "1  2024    2h 8m   R     7.6  441K  \n",
       "2  2024   2h 40m  PG     7.9   90K  \n",
       "3  2024   1h 40m  PG     7.0   56K  \n",
       "4  2024   1h 34m  PG     6.2   55K  "
      ]
     },
     "execution_count": 72,
     "metadata": {},
     "output_type": "execute_result"
    }
   ],
   "source": [
    "dff=pd.read_csv('imdb_movies_2024.csv')\n",
    "dff.head()"
   ]
  },
  {
   "cell_type": "code",
   "execution_count": 73,
   "metadata": {},
   "outputs": [
    {
     "name": "stdout",
     "output_type": "stream",
     "text": [
      "0              1. Inside Out 2\n",
      "1      2. Deadpool & Wolverine\n",
      "2                    3. Wicked\n",
      "3                   4. Moana 2\n",
      "4           5. Despicable Me 4\n",
      "                ...           \n",
      "595             596. Vettaiyan\n",
      "596                597. Nr. 24\n",
      "597              598. Parallel\n",
      "598       599. Fight or Flight\n",
      "599           600. A Sacrifice\n",
      "Name: Title, Length: 600, dtype: object\n"
     ]
    }
   ],
   "source": [
    "dff['Title']\n",
    "print(dff['Title'])"
   ]
  },
  {
   "cell_type": "code",
   "execution_count": 74,
   "metadata": {},
   "outputs": [
    {
     "data": {
      "text/plain": [
       "Title                                           1. Inside Out 2\n",
       "Movie Link    https://www.imdb.com/title/tt22022452/?ref_=sr...\n",
       "Year                                                       2024\n",
       "Duration                                                 1h 36m\n",
       "MPA                                                          PG\n",
       "Rating                                                      7.6\n",
       "Votes                                                      194K\n",
       "Name: 0, dtype: object"
      ]
     },
     "execution_count": 74,
     "metadata": {},
     "output_type": "execute_result"
    }
   ],
   "source": [
    "dff.loc[0]"
   ]
  },
  {
   "cell_type": "code",
   "execution_count": 75,
   "metadata": {},
   "outputs": [
    {
     "data": {
      "text/plain": [
       "Title                                           1. Inside Out 2\n",
       "Movie Link    https://www.imdb.com/title/tt22022452/?ref_=sr...\n",
       "Year                                                       2024\n",
       "Duration                                                 1h 36m\n",
       "MPA                                                          PG\n",
       "Rating                                                      7.6\n",
       "Votes                                                      194K\n",
       "Name: 0, dtype: object"
      ]
     },
     "execution_count": 75,
     "metadata": {},
     "output_type": "execute_result"
    }
   ],
   "source": [
    "dff.iloc[0]\n"
   ]
  },
  {
   "cell_type": "code",
   "execution_count": 76,
   "metadata": {},
   "outputs": [
    {
     "data": {
      "text/plain": [
       "'2h 40m'"
      ]
     },
     "execution_count": 76,
     "metadata": {},
     "output_type": "execute_result"
    }
   ],
   "source": [
    "dff.at[2,'Duration']"
   ]
  },
  {
   "cell_type": "code",
   "execution_count": 77,
   "metadata": {},
   "outputs": [
    {
     "data": {
      "text/plain": [
       "'PG'"
      ]
     },
     "execution_count": 77,
     "metadata": {},
     "output_type": "execute_result"
    }
   ],
   "source": [
    "dff.iat[2,4]"
   ]
  },
  {
   "cell_type": "code",
   "execution_count": 78,
   "metadata": {},
   "outputs": [
    {
     "ename": "SyntaxError",
     "evalue": "invalid syntax (2050992362.py, line 2)",
     "output_type": "error",
     "traceback": [
      "\u001b[1;36m  Cell \u001b[1;32mIn[78], line 2\u001b[1;36m\u001b[0m\n\u001b[1;33m    dff /\u001b[0m\n\u001b[1;37m         ^\u001b[0m\n\u001b[1;31mSyntaxError\u001b[0m\u001b[1;31m:\u001b[0m invalid syntax\n"
     ]
    }
   ],
   "source": [
    "\n",
    "dff['City']= ['india', 'pakistan','khalistan',]\n",
    "dff /"
   ]
  },
  {
   "cell_type": "code",
   "execution_count": 79,
   "metadata": {},
   "outputs": [
    {
     "data": {
      "text/html": [
       "<div>\n",
       "<style scoped>\n",
       "    .dataframe tbody tr th:only-of-type {\n",
       "        vertical-align: middle;\n",
       "    }\n",
       "\n",
       "    .dataframe tbody tr th {\n",
       "        vertical-align: top;\n",
       "    }\n",
       "\n",
       "    .dataframe thead th {\n",
       "        text-align: right;\n",
       "    }\n",
       "</style>\n",
       "<table border=\"1\" class=\"dataframe\">\n",
       "  <thead>\n",
       "    <tr style=\"text-align: right;\">\n",
       "      <th></th>\n",
       "      <th>Title</th>\n",
       "      <th>Movie Link</th>\n",
       "      <th>Year</th>\n",
       "      <th>Duration</th>\n",
       "      <th>MPA</th>\n",
       "      <th>Rating</th>\n",
       "    </tr>\n",
       "  </thead>\n",
       "  <tbody>\n",
       "    <tr>\n",
       "      <th>0</th>\n",
       "      <td>1. Inside Out 2</td>\n",
       "      <td>https://www.imdb.com/title/tt22022452/?ref_=sr...</td>\n",
       "      <td>2024</td>\n",
       "      <td>1h 36m</td>\n",
       "      <td>PG</td>\n",
       "      <td>7.6</td>\n",
       "    </tr>\n",
       "    <tr>\n",
       "      <th>1</th>\n",
       "      <td>2. Deadpool &amp; Wolverine</td>\n",
       "      <td>https://www.imdb.com/title/tt6263850/?ref_=sr_t_2</td>\n",
       "      <td>2024</td>\n",
       "      <td>2h 8m</td>\n",
       "      <td>R</td>\n",
       "      <td>7.6</td>\n",
       "    </tr>\n",
       "    <tr>\n",
       "      <th>2</th>\n",
       "      <td>3. Wicked</td>\n",
       "      <td>https://www.imdb.com/title/tt1262426/?ref_=sr_t_3</td>\n",
       "      <td>2024</td>\n",
       "      <td>2h 40m</td>\n",
       "      <td>PG</td>\n",
       "      <td>7.9</td>\n",
       "    </tr>\n",
       "    <tr>\n",
       "      <th>3</th>\n",
       "      <td>4. Moana 2</td>\n",
       "      <td>https://www.imdb.com/title/tt13622970/?ref_=sr...</td>\n",
       "      <td>2024</td>\n",
       "      <td>1h 40m</td>\n",
       "      <td>PG</td>\n",
       "      <td>7.0</td>\n",
       "    </tr>\n",
       "    <tr>\n",
       "      <th>4</th>\n",
       "      <td>5. Despicable Me 4</td>\n",
       "      <td>https://www.imdb.com/title/tt7510222/?ref_=sr_t_5</td>\n",
       "      <td>2024</td>\n",
       "      <td>1h 34m</td>\n",
       "      <td>PG</td>\n",
       "      <td>6.2</td>\n",
       "    </tr>\n",
       "    <tr>\n",
       "      <th>...</th>\n",
       "      <td>...</td>\n",
       "      <td>...</td>\n",
       "      <td>...</td>\n",
       "      <td>...</td>\n",
       "      <td>...</td>\n",
       "      <td>...</td>\n",
       "    </tr>\n",
       "    <tr>\n",
       "      <th>595</th>\n",
       "      <td>596. Vettaiyan</td>\n",
       "      <td>https://www.imdb.com/title/tt26936666/?ref_=sr...</td>\n",
       "      <td>2024</td>\n",
       "      <td>2h 43m</td>\n",
       "      <td>NaN</td>\n",
       "      <td>7.1</td>\n",
       "    </tr>\n",
       "    <tr>\n",
       "      <th>596</th>\n",
       "      <td>597. Nr. 24</td>\n",
       "      <td>https://www.imdb.com/title/tt23782584/?ref_=sr...</td>\n",
       "      <td>2024</td>\n",
       "      <td>1h 51m</td>\n",
       "      <td>NaN</td>\n",
       "      <td>7.7</td>\n",
       "    </tr>\n",
       "    <tr>\n",
       "      <th>597</th>\n",
       "      <td>598. Parallel</td>\n",
       "      <td>https://www.imdb.com/title/tt14637386/?ref_=sr...</td>\n",
       "      <td>2024</td>\n",
       "      <td>1h 28m</td>\n",
       "      <td>NaN</td>\n",
       "      <td>5.3</td>\n",
       "    </tr>\n",
       "    <tr>\n",
       "      <th>598</th>\n",
       "      <td>599. Fight or Flight</td>\n",
       "      <td>https://www.imdb.com/title/tt13652286/?ref_=sr...</td>\n",
       "      <td>2024</td>\n",
       "      <td>2h 46m</td>\n",
       "      <td>NaN</td>\n",
       "      <td>7.0</td>\n",
       "    </tr>\n",
       "    <tr>\n",
       "      <th>599</th>\n",
       "      <td>600. A Sacrifice</td>\n",
       "      <td>https://www.imdb.com/title/tt16491560/?ref_=sr...</td>\n",
       "      <td>2024</td>\n",
       "      <td>1h 34m</td>\n",
       "      <td>R</td>\n",
       "      <td>5.1</td>\n",
       "    </tr>\n",
       "  </tbody>\n",
       "</table>\n",
       "<p>600 rows × 6 columns</p>\n",
       "</div>"
      ],
      "text/plain": [
       "                       Title  \\\n",
       "0            1. Inside Out 2   \n",
       "1    2. Deadpool & Wolverine   \n",
       "2                  3. Wicked   \n",
       "3                 4. Moana 2   \n",
       "4         5. Despicable Me 4   \n",
       "..                       ...   \n",
       "595           596. Vettaiyan   \n",
       "596              597. Nr. 24   \n",
       "597            598. Parallel   \n",
       "598     599. Fight or Flight   \n",
       "599         600. A Sacrifice   \n",
       "\n",
       "                                            Movie Link  Year Duration  MPA  \\\n",
       "0    https://www.imdb.com/title/tt22022452/?ref_=sr...  2024   1h 36m   PG   \n",
       "1    https://www.imdb.com/title/tt6263850/?ref_=sr_t_2  2024    2h 8m    R   \n",
       "2    https://www.imdb.com/title/tt1262426/?ref_=sr_t_3  2024   2h 40m   PG   \n",
       "3    https://www.imdb.com/title/tt13622970/?ref_=sr...  2024   1h 40m   PG   \n",
       "4    https://www.imdb.com/title/tt7510222/?ref_=sr_t_5  2024   1h 34m   PG   \n",
       "..                                                 ...   ...      ...  ...   \n",
       "595  https://www.imdb.com/title/tt26936666/?ref_=sr...  2024   2h 43m  NaN   \n",
       "596  https://www.imdb.com/title/tt23782584/?ref_=sr...  2024   1h 51m  NaN   \n",
       "597  https://www.imdb.com/title/tt14637386/?ref_=sr...  2024   1h 28m  NaN   \n",
       "598  https://www.imdb.com/title/tt13652286/?ref_=sr...  2024   2h 46m  NaN   \n",
       "599  https://www.imdb.com/title/tt16491560/?ref_=sr...  2024   1h 34m    R   \n",
       "\n",
       "     Rating  \n",
       "0       7.6  \n",
       "1       7.6  \n",
       "2       7.9  \n",
       "3       7.0  \n",
       "4       6.2  \n",
       "..      ...  \n",
       "595     7.1  \n",
       "596     7.7  \n",
       "597     5.3  \n",
       "598     7.0  \n",
       "599     5.1  \n",
       "\n",
       "[600 rows x 6 columns]"
      ]
     },
     "execution_count": 79,
     "metadata": {},
     "output_type": "execute_result"
    }
   ],
   "source": [
    "dff.drop('Votes',axis=1, inplace=True)\n",
    "dff\n"
   ]
  },
  {
   "cell_type": "code",
   "execution_count": 82,
   "metadata": {},
   "outputs": [
    {
     "data": {
      "text/html": [
       "<div>\n",
       "<style scoped>\n",
       "    .dataframe tbody tr th:only-of-type {\n",
       "        vertical-align: middle;\n",
       "    }\n",
       "\n",
       "    .dataframe tbody tr th {\n",
       "        vertical-align: top;\n",
       "    }\n",
       "\n",
       "    .dataframe thead th {\n",
       "        text-align: right;\n",
       "    }\n",
       "</style>\n",
       "<table border=\"1\" class=\"dataframe\">\n",
       "  <thead>\n",
       "    <tr style=\"text-align: right;\">\n",
       "      <th></th>\n",
       "      <th>Title</th>\n",
       "      <th>Movie Link</th>\n",
       "      <th>Year</th>\n",
       "      <th>Duration</th>\n",
       "      <th>MPA</th>\n",
       "      <th>Rating</th>\n",
       "    </tr>\n",
       "  </thead>\n",
       "  <tbody>\n",
       "    <tr>\n",
       "      <th>0</th>\n",
       "      <td>1. Inside Out 2</td>\n",
       "      <td>https://www.imdb.com/title/tt22022452/?ref_=sr...</td>\n",
       "      <td>2024</td>\n",
       "      <td>1h 36m</td>\n",
       "      <td>PG</td>\n",
       "      <td>10.6</td>\n",
       "    </tr>\n",
       "    <tr>\n",
       "      <th>1</th>\n",
       "      <td>2. Deadpool &amp; Wolverine</td>\n",
       "      <td>https://www.imdb.com/title/tt6263850/?ref_=sr_t_2</td>\n",
       "      <td>2024</td>\n",
       "      <td>2h 8m</td>\n",
       "      <td>R</td>\n",
       "      <td>10.6</td>\n",
       "    </tr>\n",
       "    <tr>\n",
       "      <th>2</th>\n",
       "      <td>3. Wicked</td>\n",
       "      <td>https://www.imdb.com/title/tt1262426/?ref_=sr_t_3</td>\n",
       "      <td>2024</td>\n",
       "      <td>2h 40m</td>\n",
       "      <td>PG</td>\n",
       "      <td>10.9</td>\n",
       "    </tr>\n",
       "    <tr>\n",
       "      <th>3</th>\n",
       "      <td>4. Moana 2</td>\n",
       "      <td>https://www.imdb.com/title/tt13622970/?ref_=sr...</td>\n",
       "      <td>2024</td>\n",
       "      <td>1h 40m</td>\n",
       "      <td>PG</td>\n",
       "      <td>10.0</td>\n",
       "    </tr>\n",
       "    <tr>\n",
       "      <th>4</th>\n",
       "      <td>5. Despicable Me 4</td>\n",
       "      <td>https://www.imdb.com/title/tt7510222/?ref_=sr_t_5</td>\n",
       "      <td>2024</td>\n",
       "      <td>1h 34m</td>\n",
       "      <td>PG</td>\n",
       "      <td>9.2</td>\n",
       "    </tr>\n",
       "    <tr>\n",
       "      <th>...</th>\n",
       "      <td>...</td>\n",
       "      <td>...</td>\n",
       "      <td>...</td>\n",
       "      <td>...</td>\n",
       "      <td>...</td>\n",
       "      <td>...</td>\n",
       "    </tr>\n",
       "    <tr>\n",
       "      <th>595</th>\n",
       "      <td>596. Vettaiyan</td>\n",
       "      <td>https://www.imdb.com/title/tt26936666/?ref_=sr...</td>\n",
       "      <td>2024</td>\n",
       "      <td>2h 43m</td>\n",
       "      <td>NaN</td>\n",
       "      <td>10.1</td>\n",
       "    </tr>\n",
       "    <tr>\n",
       "      <th>596</th>\n",
       "      <td>597. Nr. 24</td>\n",
       "      <td>https://www.imdb.com/title/tt23782584/?ref_=sr...</td>\n",
       "      <td>2024</td>\n",
       "      <td>1h 51m</td>\n",
       "      <td>NaN</td>\n",
       "      <td>10.7</td>\n",
       "    </tr>\n",
       "    <tr>\n",
       "      <th>597</th>\n",
       "      <td>598. Parallel</td>\n",
       "      <td>https://www.imdb.com/title/tt14637386/?ref_=sr...</td>\n",
       "      <td>2024</td>\n",
       "      <td>1h 28m</td>\n",
       "      <td>NaN</td>\n",
       "      <td>8.3</td>\n",
       "    </tr>\n",
       "    <tr>\n",
       "      <th>598</th>\n",
       "      <td>599. Fight or Flight</td>\n",
       "      <td>https://www.imdb.com/title/tt13652286/?ref_=sr...</td>\n",
       "      <td>2024</td>\n",
       "      <td>2h 46m</td>\n",
       "      <td>NaN</td>\n",
       "      <td>10.0</td>\n",
       "    </tr>\n",
       "    <tr>\n",
       "      <th>599</th>\n",
       "      <td>600. A Sacrifice</td>\n",
       "      <td>https://www.imdb.com/title/tt16491560/?ref_=sr...</td>\n",
       "      <td>2024</td>\n",
       "      <td>1h 34m</td>\n",
       "      <td>R</td>\n",
       "      <td>8.1</td>\n",
       "    </tr>\n",
       "  </tbody>\n",
       "</table>\n",
       "<p>600 rows × 6 columns</p>\n",
       "</div>"
      ],
      "text/plain": [
       "                       Title  \\\n",
       "0            1. Inside Out 2   \n",
       "1    2. Deadpool & Wolverine   \n",
       "2                  3. Wicked   \n",
       "3                 4. Moana 2   \n",
       "4         5. Despicable Me 4   \n",
       "..                       ...   \n",
       "595           596. Vettaiyan   \n",
       "596              597. Nr. 24   \n",
       "597            598. Parallel   \n",
       "598     599. Fight or Flight   \n",
       "599         600. A Sacrifice   \n",
       "\n",
       "                                            Movie Link  Year Duration  MPA  \\\n",
       "0    https://www.imdb.com/title/tt22022452/?ref_=sr...  2024   1h 36m   PG   \n",
       "1    https://www.imdb.com/title/tt6263850/?ref_=sr_t_2  2024    2h 8m    R   \n",
       "2    https://www.imdb.com/title/tt1262426/?ref_=sr_t_3  2024   2h 40m   PG   \n",
       "3    https://www.imdb.com/title/tt13622970/?ref_=sr...  2024   1h 40m   PG   \n",
       "4    https://www.imdb.com/title/tt7510222/?ref_=sr_t_5  2024   1h 34m   PG   \n",
       "..                                                 ...   ...      ...  ...   \n",
       "595  https://www.imdb.com/title/tt26936666/?ref_=sr...  2024   2h 43m  NaN   \n",
       "596  https://www.imdb.com/title/tt23782584/?ref_=sr...  2024   1h 51m  NaN   \n",
       "597  https://www.imdb.com/title/tt14637386/?ref_=sr...  2024   1h 28m  NaN   \n",
       "598  https://www.imdb.com/title/tt13652286/?ref_=sr...  2024   2h 46m  NaN   \n",
       "599  https://www.imdb.com/title/tt16491560/?ref_=sr...  2024   1h 34m    R   \n",
       "\n",
       "     Rating  \n",
       "0      10.6  \n",
       "1      10.6  \n",
       "2      10.9  \n",
       "3      10.0  \n",
       "4       9.2  \n",
       "..      ...  \n",
       "595    10.1  \n",
       "596    10.7  \n",
       "597     8.3  \n",
       "598    10.0  \n",
       "599     8.1  \n",
       "\n",
       "[600 rows x 6 columns]"
      ]
     },
     "execution_count": 82,
     "metadata": {},
     "output_type": "execute_result"
    }
   ],
   "source": [
    "dff['Rating'] = dff['Rating']+1\n",
    "dff"
   ]
  },
  {
   "cell_type": "code",
   "execution_count": 83,
   "metadata": {},
   "outputs": [
    {
     "data": {
      "text/html": [
       "<div>\n",
       "<style scoped>\n",
       "    .dataframe tbody tr th:only-of-type {\n",
       "        vertical-align: middle;\n",
       "    }\n",
       "\n",
       "    .dataframe tbody tr th {\n",
       "        vertical-align: top;\n",
       "    }\n",
       "\n",
       "    .dataframe thead th {\n",
       "        text-align: right;\n",
       "    }\n",
       "</style>\n",
       "<table border=\"1\" class=\"dataframe\">\n",
       "  <thead>\n",
       "    <tr style=\"text-align: right;\">\n",
       "      <th></th>\n",
       "      <th>Year</th>\n",
       "      <th>Rating</th>\n",
       "    </tr>\n",
       "  </thead>\n",
       "  <tbody>\n",
       "    <tr>\n",
       "      <th>count</th>\n",
       "      <td>600.0</td>\n",
       "      <td>597.000000</td>\n",
       "    </tr>\n",
       "    <tr>\n",
       "      <th>mean</th>\n",
       "      <td>2024.0</td>\n",
       "      <td>9.288275</td>\n",
       "    </tr>\n",
       "    <tr>\n",
       "      <th>std</th>\n",
       "      <td>0.0</td>\n",
       "      <td>1.249267</td>\n",
       "    </tr>\n",
       "    <tr>\n",
       "      <th>min</th>\n",
       "      <td>2024.0</td>\n",
       "      <td>5.100000</td>\n",
       "    </tr>\n",
       "    <tr>\n",
       "      <th>25%</th>\n",
       "      <td>2024.0</td>\n",
       "      <td>8.400000</td>\n",
       "    </tr>\n",
       "    <tr>\n",
       "      <th>50%</th>\n",
       "      <td>2024.0</td>\n",
       "      <td>9.400000</td>\n",
       "    </tr>\n",
       "    <tr>\n",
       "      <th>75%</th>\n",
       "      <td>2024.0</td>\n",
       "      <td>10.100000</td>\n",
       "    </tr>\n",
       "    <tr>\n",
       "      <th>max</th>\n",
       "      <td>2024.0</td>\n",
       "      <td>12.500000</td>\n",
       "    </tr>\n",
       "  </tbody>\n",
       "</table>\n",
       "</div>"
      ],
      "text/plain": [
       "         Year      Rating\n",
       "count   600.0  597.000000\n",
       "mean   2024.0    9.288275\n",
       "std       0.0    1.249267\n",
       "min    2024.0    5.100000\n",
       "25%    2024.0    8.400000\n",
       "50%    2024.0    9.400000\n",
       "75%    2024.0   10.100000\n",
       "max    2024.0   12.500000"
      ]
     },
     "execution_count": 83,
     "metadata": {},
     "output_type": "execute_result"
    }
   ],
   "source": [
    "dff.describe()"
   ]
  },
  {
   "cell_type": "code",
   "execution_count": null,
   "metadata": {},
   "outputs": [],
   "source": []
  }
 ],
 "metadata": {
  "kernelspec": {
   "display_name": "Python 3",
   "language": "python",
   "name": "python3"
  },
  "language_info": {
   "codemirror_mode": {
    "name": "ipython",
    "version": 3
   },
   "file_extension": ".py",
   "mimetype": "text/x-python",
   "name": "python",
   "nbconvert_exporter": "python",
   "pygments_lexer": "ipython3",
   "version": "3.12.0"
  }
 },
 "nbformat": 4,
 "nbformat_minor": 2
}
