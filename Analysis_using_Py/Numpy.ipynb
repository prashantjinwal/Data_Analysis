{
 "cells": [
  {
   "cell_type": "code",
   "execution_count": 1,
   "metadata": {},
   "outputs": [
    {
     "name": "stdout",
     "output_type": "stream",
     "text": [
      "Collecting numpy\n",
      "  Downloading numpy-2.2.2-cp312-cp312-win_amd64.whl.metadata (60 kB)\n",
      "Downloading numpy-2.2.2-cp312-cp312-win_amd64.whl (12.6 MB)\n",
      "   ---------------------------------------- 0.0/12.6 MB ? eta -:--:--\n",
      "   - -------------------------------------- 0.5/12.6 MB 2.8 MB/s eta 0:00:05\n",
      "   ---- ----------------------------------- 1.3/12.6 MB 3.2 MB/s eta 0:00:04\n",
      "   ------ --------------------------------- 2.1/12.6 MB 3.6 MB/s eta 0:00:03\n",
      "   --------- ------------------------------ 3.1/12.6 MB 3.9 MB/s eta 0:00:03\n",
      "   ------------- -------------------------- 4.2/12.6 MB 4.1 MB/s eta 0:00:03\n",
      "   --------------- ------------------------ 5.0/12.6 MB 4.0 MB/s eta 0:00:02\n",
      "   ------------------ --------------------- 5.8/12.6 MB 4.0 MB/s eta 0:00:02\n",
      "   -------------------- ------------------- 6.6/12.6 MB 4.0 MB/s eta 0:00:02\n",
      "   ------------------------ --------------- 7.6/12.6 MB 4.0 MB/s eta 0:00:02\n",
      "   -------------------------- ------------- 8.4/12.6 MB 4.1 MB/s eta 0:00:02\n",
      "   ----------------------------- ---------- 9.2/12.6 MB 4.1 MB/s eta 0:00:01\n",
      "   -------------------------------- ------- 10.2/12.6 MB 4.0 MB/s eta 0:00:01\n",
      "   ---------------------------------- ----- 11.0/12.6 MB 4.0 MB/s eta 0:00:01\n",
      "   ------------------------------------- -- 11.8/12.6 MB 4.0 MB/s eta 0:00:01\n",
      "   ---------------------------------------  12.6/12.6 MB 4.0 MB/s eta 0:00:01\n",
      "   ---------------------------------------- 12.6/12.6 MB 3.9 MB/s eta 0:00:00\n",
      "Installing collected packages: numpy\n",
      "Successfully installed numpy-2.2.2\n"
     ]
    }
   ],
   "source": [
    "!pip install numpy "
   ]
  },
  {
   "cell_type": "code",
   "execution_count": 5,
   "metadata": {},
   "outputs": [
    {
     "name": "stdout",
     "output_type": "stream",
     "text": [
      "[ 2 12  2  3  4  6  8]\n",
      "<class 'numpy.ndarray'>\n",
      "(7,)\n"
     ]
    }
   ],
   "source": [
    "import numpy as np \n",
    "arr = np.array([2,12,2,3,4,6,8])\n",
    "print(arr)\n",
    "print(type(arr))\n",
    "print(arr.shape)"
   ]
  },
  {
   "cell_type": "code",
   "execution_count": 7,
   "metadata": {},
   "outputs": [
    {
     "data": {
      "text/plain": [
       "array([[ 2, 12,  2,  3,  4,  6,  8]])"
      ]
     },
     "execution_count": 7,
     "metadata": {},
     "output_type": "execute_result"
    }
   ],
   "source": [
    "arr2 = np.array([2,12,2,3,4,6,8])\n",
    "arr2.reshape(1,7)"
   ]
  },
  {
   "cell_type": "code",
   "execution_count": 8,
   "metadata": {},
   "outputs": [
    {
     "name": "stdout",
     "output_type": "stream",
     "text": [
      "[[ 2 12  2  3  4  6  8]\n",
      " [ 1  2  3  4  5  6  7]]\n",
      "(2, 7)\n"
     ]
    }
   ],
   "source": [
    "# 2D array\n",
    "arr3 = np.array([[2,12,2,3,4,6,8],[1,2,3,4,5,6,7]])\n",
    "print(arr3)\n",
    "print(arr3.shape)\n"
   ]
  },
  {
   "cell_type": "code",
   "execution_count": 10,
   "metadata": {},
   "outputs": [
    {
     "data": {
      "text/plain": [
       "array([[0],\n",
       "       [2],\n",
       "       [4],\n",
       "       [6],\n",
       "       [8]])"
      ]
     },
     "execution_count": 10,
     "metadata": {},
     "output_type": "execute_result"
    }
   ],
   "source": [
    "np.arange(0,10,2).reshape(5,1)"
   ]
  },
  {
   "cell_type": "code",
   "execution_count": 14,
   "metadata": {},
   "outputs": [
    {
     "name": "stdout",
     "output_type": "stream",
     "text": [
      "Array :  [[ 2 12  2  3  4  6  8]\n",
      " [ 1  2  3  4  5  6  7]]\n",
      "size :  14\n",
      "Shape :  (2, 7)\n",
      "Dimension :  2\n",
      "Data type :  int64\n",
      "item size :  8\n"
     ]
    }
   ],
   "source": [
    "print(\"Array : \",arr3)\n",
    "print(\"size : \", arr3.size)\n",
    "print(\"Shape : \", arr3.shape)\n",
    "print(\"Dimension : \", arr3.ndim)\n",
    "print(\"Data type : \", arr3.dtype)\n",
    "print(\"item size : \", arr3.itemsize)\n",
    "\n"
   ]
  },
  {
   "cell_type": "code",
   "execution_count": 18,
   "metadata": {},
   "outputs": [
    {
     "name": "stdout",
     "output_type": "stream",
     "text": [
      "[1.41421356 3.46410162 1.41421356 1.73205081]\n",
      "[7.38905610e+00 1.62754791e+05 7.38905610e+00 2.00855369e+01]\n",
      "[ 0.90929743 -0.53657292  0.90929743  0.14112001]\n",
      "[0.69314718 2.48490665 0.69314718 1.09861229]\n"
     ]
    }
   ],
   "source": [
    "# Universal function \n",
    "arr4 = np.array([2,12,2,3])\n",
    "print(np.sqrt(arr4))\n",
    "print(np.exp(arr4))\n",
    "print(np.sin(arr4))\n",
    "print(np.log(arr4))"
   ]
  },
  {
   "cell_type": "code",
   "execution_count": 29,
   "metadata": {},
   "outputs": [
    {
     "name": "stdout",
     "output_type": "stream",
     "text": [
      "[[ 2 12  2  3]\n",
      " [ 4  6  3  9]\n",
      " [ 9  7  5  2]]\n",
      "5\n",
      "2\n",
      "[[2 3]\n",
      " [3 9]]\n",
      "[[3 9]\n",
      " [5 2]]\n",
      "[[  2  12   2   3]\n",
      " [100 100 100 100]\n",
      " [100 100 100 100]]\n"
     ]
    }
   ],
   "source": [
    "arr5 = np.array([[2,12,2,3],[4,6,3,9],[9,7,5,2]])\n",
    "print(arr5)\n",
    "print(arr5[2][2])\n",
    "print(arr5[0][0])\n",
    "print(arr5[0:2,2:])\n",
    "print(arr5[1:,2:])\n",
    "arr5[1:]= 100\n",
    "print(arr5)\n"
   ]
  },
  {
   "cell_type": "code",
   "execution_count": 31,
   "metadata": {},
   "outputs": [
    {
     "name": "stdout",
     "output_type": "stream",
     "text": [
      "Normalization  =  [-0.65388213  1.72387107 -0.65388213 -0.41610681]\n"
     ]
    }
   ],
   "source": [
    "data = np.array([2,12,2,3])\n",
    "\n",
    "mean = np.mean(data)\n",
    "std_dev = np.std(data)\n",
    "\n",
    "normalization = (data - mean) / std_dev\n",
    "print(\"Normalization  = \",normalization )\n"
   ]
  },
  {
   "cell_type": "code",
   "execution_count": 34,
   "metadata": {},
   "outputs": [
    {
     "name": "stdout",
     "output_type": "stream",
     "text": [
      "median :  2.5\n",
      "variance :  17.6875\n"
     ]
    }
   ],
   "source": [
    "median = np.median(data)\n",
    "print(\"median : \",median)\n",
    "\n",
    "variance = np.var(data)\n",
    "print(\"variance : \",variance )"
   ]
  },
  {
   "cell_type": "code",
   "execution_count": 42,
   "metadata": {},
   "outputs": [
    {
     "name": "stdout",
     "output_type": "stream",
     "text": [
      "[12]\n"
     ]
    },
    {
     "data": {
      "text/plain": [
       "array([2, 2, 3])"
      ]
     },
     "execution_count": 42,
     "metadata": {},
     "output_type": "execute_result"
    }
   ],
   "source": [
    "data>3\n",
    "print(data[data>3])\n",
    "data[(data>=2) & (data<=8)]"
   ]
  }
 ],
 "metadata": {
  "kernelspec": {
   "display_name": "Python 3",
   "language": "python",
   "name": "python3"
  },
  "language_info": {
   "codemirror_mode": {
    "name": "ipython",
    "version": 3
   },
   "file_extension": ".py",
   "mimetype": "text/x-python",
   "name": "python",
   "nbconvert_exporter": "python",
   "pygments_lexer": "ipython3",
   "version": "3.12.0"
  }
 },
 "nbformat": 4,
 "nbformat_minor": 2
}
