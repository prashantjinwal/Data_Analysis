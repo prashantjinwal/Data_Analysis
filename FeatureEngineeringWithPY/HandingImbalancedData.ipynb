{
 "cells": [
  {
   "cell_type": "markdown",
   "id": "32d60843",
   "metadata": {},
   "source": [
    "## Handling Imbalanced datasets\n",
    "1. up sampling \n",
    "2. down sampling "
   ]
  },
  {
   "cell_type": "code",
   "execution_count": 1,
   "id": "9a4041f2",
   "metadata": {},
   "outputs": [],
   "source": [
    "import numpy as np \n",
    "import pandas as pd\n",
    "\n",
    "np.random.seed(123)\n",
    "n_sample = 1000\n",
    "class_0_ratio = 0.9\n",
    "n_class_0 = int(n_sample * class_0_ratio)\n",
    "n_class_1 = n_sample - n_class_0"
   ]
  },
  {
   "cell_type": "code",
   "execution_count": 2,
   "id": "cce5c027",
   "metadata": {},
   "outputs": [
    {
     "data": {
      "text/plain": [
       "(900, 100)"
      ]
     },
     "execution_count": 2,
     "metadata": {},
     "output_type": "execute_result"
    }
   ],
   "source": [
    "n_class_0, n_class_1"
   ]
  },
  {
   "cell_type": "code",
   "execution_count": 3,
   "id": "6d621f71",
   "metadata": {},
   "outputs": [],
   "source": [
    "class_0 = pd.DataFrame({\n",
    "    'features_1': np.random.normal(loc=0, scale=1, size=n_class_0),\n",
    "    'features_2': np.random.normal(loc=0, scale=1, size=n_class_0),\n",
    "    'target' : [0] * n_class_0\n",
    "})\n",
    "\n",
    "class_1 = pd.DataFrame({\n",
    "    'features_1': np.random.normal(loc=2, scale=1, size=n_class_1),\n",
    "    'features_2': np.random.normal(loc=2, scale=1, size=n_class_1),\n",
    "    'target' : [1] * n_class_1\n",
    "})"
   ]
  },
  {
   "cell_type": "code",
   "execution_count": 4,
   "id": "e7a13b46",
   "metadata": {},
   "outputs": [],
   "source": [
    "df = pd.concat([class_0, class_1]).reset_index(drop=True)"
   ]
  },
  {
   "cell_type": "code",
   "execution_count": 6,
   "id": "3536f010",
   "metadata": {},
   "outputs": [
    {
     "data": {
      "text/html": [
       "<div>\n",
       "<style scoped>\n",
       "    .dataframe tbody tr th:only-of-type {\n",
       "        vertical-align: middle;\n",
       "    }\n",
       "\n",
       "    .dataframe tbody tr th {\n",
       "        vertical-align: top;\n",
       "    }\n",
       "\n",
       "    .dataframe thead th {\n",
       "        text-align: right;\n",
       "    }\n",
       "</style>\n",
       "<table border=\"1\" class=\"dataframe\">\n",
       "  <thead>\n",
       "    <tr style=\"text-align: right;\">\n",
       "      <th></th>\n",
       "      <th>features_1</th>\n",
       "      <th>features_2</th>\n",
       "      <th>target</th>\n",
       "    </tr>\n",
       "  </thead>\n",
       "  <tbody>\n",
       "    <tr>\n",
       "      <th>0</th>\n",
       "      <td>-1.085631</td>\n",
       "      <td>0.551302</td>\n",
       "      <td>0</td>\n",
       "    </tr>\n",
       "    <tr>\n",
       "      <th>1</th>\n",
       "      <td>0.997345</td>\n",
       "      <td>0.419589</td>\n",
       "      <td>0</td>\n",
       "    </tr>\n",
       "    <tr>\n",
       "      <th>2</th>\n",
       "      <td>0.282978</td>\n",
       "      <td>1.815652</td>\n",
       "      <td>0</td>\n",
       "    </tr>\n",
       "    <tr>\n",
       "      <th>3</th>\n",
       "      <td>-1.506295</td>\n",
       "      <td>-0.252750</td>\n",
       "      <td>0</td>\n",
       "    </tr>\n",
       "    <tr>\n",
       "      <th>4</th>\n",
       "      <td>-0.578600</td>\n",
       "      <td>-0.292004</td>\n",
       "      <td>0</td>\n",
       "    </tr>\n",
       "  </tbody>\n",
       "</table>\n",
       "</div>"
      ],
      "text/plain": [
       "   features_1  features_2  target\n",
       "0   -1.085631    0.551302       0\n",
       "1    0.997345    0.419589       0\n",
       "2    0.282978    1.815652       0\n",
       "3   -1.506295   -0.252750       0\n",
       "4   -0.578600   -0.292004       0"
      ]
     },
     "execution_count": 6,
     "metadata": {},
     "output_type": "execute_result"
    }
   ],
   "source": [
    "df.head()"
   ]
  },
  {
   "cell_type": "code",
   "execution_count": 7,
   "id": "1a00225d",
   "metadata": {},
   "outputs": [
    {
     "data": {
      "text/plain": [
       "target\n",
       "0    900\n",
       "1    100\n",
       "Name: count, dtype: int64"
      ]
     },
     "execution_count": 7,
     "metadata": {},
     "output_type": "execute_result"
    }
   ],
   "source": [
    "df['target'].value_counts()"
   ]
  },
  {
   "cell_type": "code",
   "execution_count": 8,
   "id": "f5a2e4c0",
   "metadata": {},
   "outputs": [],
   "source": [
    "df_minority = df[df['target'] ==1]\n",
    "df_majority = df[df['target']==0 ]"
   ]
  },
  {
   "cell_type": "code",
   "execution_count": 11,
   "id": "ae6021d1",
   "metadata": {},
   "outputs": [
    {
     "name": "stdout",
     "output_type": "stream",
     "text": [
      "Requirement already satisfied: scikit-learn in d:\\projects\\data_analysis\\venv\\lib\\site-packages (1.7.2)\n",
      "Requirement already satisfied: numpy>=1.22.0 in d:\\projects\\data_analysis\\venv\\lib\\site-packages (from scikit-learn) (2.2.2)\n",
      "Requirement already satisfied: scipy>=1.8.0 in d:\\projects\\data_analysis\\venv\\lib\\site-packages (from scikit-learn) (1.16.2)\n",
      "Requirement already satisfied: joblib>=1.2.0 in d:\\projects\\data_analysis\\venv\\lib\\site-packages (from scikit-learn) (1.5.2)\n",
      "Requirement already satisfied: threadpoolctl>=3.1.0 in d:\\projects\\data_analysis\\venv\\lib\\site-packages (from scikit-learn) (3.6.0)\n",
      "Note: you may need to restart the kernel to use updated packages.\n"
     ]
    }
   ],
   "source": [
    "%pip install scikit-learn\n",
    "from sklearn.utils import resample\n",
    "df_minority_upsampled = resample(df_minority, replace=True,\n",
    "         n_samples=len(df_majority),\n",
    "         random_state=42\n",
    "         )\n"
   ]
  },
  {
   "cell_type": "code",
   "execution_count": 18,
   "id": "d5a637e3",
   "metadata": {},
   "outputs": [
    {
     "data": {
      "text/plain": [
       "(900, 3)"
      ]
     },
     "execution_count": 18,
     "metadata": {},
     "output_type": "execute_result"
    }
   ],
   "source": [
    "df_minority_upsampled.shape"
   ]
  },
  {
   "cell_type": "code",
   "execution_count": 13,
   "id": "6515722c",
   "metadata": {},
   "outputs": [
    {
     "data": {
      "text/html": [
       "<div>\n",
       "<style scoped>\n",
       "    .dataframe tbody tr th:only-of-type {\n",
       "        vertical-align: middle;\n",
       "    }\n",
       "\n",
       "    .dataframe tbody tr th {\n",
       "        vertical-align: top;\n",
       "    }\n",
       "\n",
       "    .dataframe thead th {\n",
       "        text-align: right;\n",
       "    }\n",
       "</style>\n",
       "<table border=\"1\" class=\"dataframe\">\n",
       "  <thead>\n",
       "    <tr style=\"text-align: right;\">\n",
       "      <th></th>\n",
       "      <th>features_1</th>\n",
       "      <th>features_2</th>\n",
       "      <th>target</th>\n",
       "    </tr>\n",
       "  </thead>\n",
       "  <tbody>\n",
       "    <tr>\n",
       "      <th>951</th>\n",
       "      <td>1.125854</td>\n",
       "      <td>1.843917</td>\n",
       "      <td>1</td>\n",
       "    </tr>\n",
       "    <tr>\n",
       "      <th>992</th>\n",
       "      <td>2.196570</td>\n",
       "      <td>1.397425</td>\n",
       "      <td>1</td>\n",
       "    </tr>\n",
       "    <tr>\n",
       "      <th>914</th>\n",
       "      <td>1.932170</td>\n",
       "      <td>2.998053</td>\n",
       "      <td>1</td>\n",
       "    </tr>\n",
       "    <tr>\n",
       "      <th>971</th>\n",
       "      <td>2.272825</td>\n",
       "      <td>3.034197</td>\n",
       "      <td>1</td>\n",
       "    </tr>\n",
       "    <tr>\n",
       "      <th>960</th>\n",
       "      <td>2.870056</td>\n",
       "      <td>1.550485</td>\n",
       "      <td>1</td>\n",
       "    </tr>\n",
       "  </tbody>\n",
       "</table>\n",
       "</div>"
      ],
      "text/plain": [
       "     features_1  features_2  target\n",
       "951    1.125854    1.843917       1\n",
       "992    2.196570    1.397425       1\n",
       "914    1.932170    2.998053       1\n",
       "971    2.272825    3.034197       1\n",
       "960    2.870056    1.550485       1"
      ]
     },
     "execution_count": 13,
     "metadata": {},
     "output_type": "execute_result"
    }
   ],
   "source": [
    "df_minority_upsampled.head()"
   ]
  },
  {
   "cell_type": "code",
   "execution_count": 16,
   "id": "f2a2926d",
   "metadata": {},
   "outputs": [],
   "source": [
    "df_upsample = pd.concat([df_majority, df_minority_upsampled ])"
   ]
  },
  {
   "cell_type": "code",
   "execution_count": 17,
   "id": "069caf31",
   "metadata": {},
   "outputs": [
    {
     "data": {
      "text/plain": [
       "target\n",
       "0    900\n",
       "1    900\n",
       "Name: count, dtype: int64"
      ]
     },
     "execution_count": 17,
     "metadata": {},
     "output_type": "execute_result"
    }
   ],
   "source": [
    "df_upsample['target'].value_counts()"
   ]
  },
  {
   "cell_type": "markdown",
   "id": "937352f9",
   "metadata": {},
   "source": [
    "#### Downsampling"
   ]
  },
  {
   "cell_type": "markdown",
   "id": "aaf2ce84",
   "metadata": {},
   "source": []
  },
  {
   "cell_type": "code",
   "execution_count": 23,
   "id": "bc48f841",
   "metadata": {},
   "outputs": [
    {
     "name": "stdout",
     "output_type": "stream",
     "text": [
      "target\n",
      "0    900\n",
      "1    100\n",
      "Name: count, dtype: int64\n"
     ]
    }
   ],
   "source": [
    "import numpy as np \n",
    "import pandas as pd\n",
    "\n",
    "np.random.seed(123)\n",
    "n_sample = 1000\n",
    "class_0_ratio = 0.9\n",
    "n_class_0 = int(n_sample * class_0_ratio)\n",
    "n_class_1 = n_sample - n_class_0\n",
    "\n",
    "class_0 = pd.DataFrame({\n",
    "    'features_1': np.random.normal(loc=0, scale=1, size=n_class_0),\n",
    "    'features_2': np.random.normal(loc=0, scale=1, size=n_class_0),\n",
    "    'target' : [0] * n_class_0\n",
    "})\n",
    "\n",
    "class_1 = pd.DataFrame({\n",
    "    'features_1': np.random.normal(loc=2, scale=1, size=n_class_1),\n",
    "    'features_2': np.random.normal(loc=2, scale=1, size=n_class_1),\n",
    "    'target' : [1] * n_class_1\n",
    "})\n",
    "\n",
    "df = pd.concat([class_0, class_1]).reset_index(drop=True)\n",
    "\n",
    "print(df['target'].value_counts())"
   ]
  },
  {
   "cell_type": "code",
   "execution_count": 24,
   "id": "01acc4a3",
   "metadata": {},
   "outputs": [],
   "source": [
    "df_minority = df[df['target'] ==1]\n",
    "df_majority = df[df['target']==0 ]"
   ]
  },
  {
   "cell_type": "code",
   "execution_count": 25,
   "id": "809299ce",
   "metadata": {},
   "outputs": [],
   "source": [
    "from sklearn.utils import resample\n",
    "df_majority_downsampled = resample(df_majority, replace=False,\n",
    "         n_samples=len(df_minority),\n",
    "         random_state=42\n",
    "         )\n"
   ]
  },
  {
   "cell_type": "code",
   "execution_count": 26,
   "id": "c0288001",
   "metadata": {},
   "outputs": [
    {
     "data": {
      "text/plain": [
       "(100, 3)"
      ]
     },
     "execution_count": 26,
     "metadata": {},
     "output_type": "execute_result"
    }
   ],
   "source": [
    "df_majority_downsampled.shape"
   ]
  },
  {
   "cell_type": "code",
   "execution_count": 27,
   "id": "350ab9ac",
   "metadata": {},
   "outputs": [],
   "source": [
    "df_downsample = pd.concat([df_minority, df_majority_downsampled ])\n"
   ]
  },
  {
   "cell_type": "code",
   "execution_count": 29,
   "id": "58c592c3",
   "metadata": {},
   "outputs": [
    {
     "data": {
      "text/plain": [
       "target\n",
       "1    100\n",
       "0    100\n",
       "Name: count, dtype: int64"
      ]
     },
     "execution_count": 29,
     "metadata": {},
     "output_type": "execute_result"
    }
   ],
   "source": [
    "df_downsample.target.value_counts()"
   ]
  },
  {
   "cell_type": "code",
   "execution_count": null,
   "id": "d5f10de6",
   "metadata": {},
   "outputs": [],
   "source": []
  }
 ],
 "metadata": {
  "kernelspec": {
   "display_name": "venv",
   "language": "python",
   "name": "python3"
  },
  "language_info": {
   "codemirror_mode": {
    "name": "ipython",
    "version": 3
   },
   "file_extension": ".py",
   "mimetype": "text/x-python",
   "name": "python",
   "nbconvert_exporter": "python",
   "pygments_lexer": "ipython3",
   "version": "3.12.0"
  }
 },
 "nbformat": 4,
 "nbformat_minor": 5
}
